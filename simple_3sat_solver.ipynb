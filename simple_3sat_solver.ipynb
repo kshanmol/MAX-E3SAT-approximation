{
 "cells": [
  {
   "cell_type": "markdown",
   "metadata": {},
   "source": [
    "## Approximation algorithm for a 3-SAT problem"
   ]
  },
  {
   "cell_type": "markdown",
   "metadata": {},
   "source": [
    "This is a simple demonstration of a 7/8-approximation algorithm for the MAX E3 SAT problem. Let's jump right in!\n",
    "#### Generating a random boolean 3-SAT formula"
   ]
  },
  {
   "cell_type": "code",
   "execution_count": 1,
   "metadata": {
    "collapsed": true
   },
   "outputs": [],
   "source": [
    "import random"
   ]
  },
  {
   "cell_type": "code",
   "execution_count": 2,
   "metadata": {
    "collapsed": true
   },
   "outputs": [],
   "source": [
    "def randomVariable(n):\n",
    "\treturn random.randint(0,2*n-1)\n",
    "\n",
    "def getRandomFormula(n,m):\n",
    "\n",
    "\tf = []\n",
    "\n",
    "\tfor i in range(m):\n",
    "\t\tf.append([])\n",
    "\t\tfor j in range(3):\n",
    "\t\t\tf[i].append(randomVariable(n))\n",
    "\treturn f"
   ]
  },
  {
   "cell_type": "markdown",
   "metadata": {},
   "source": [
    "Great! Now let's quickly write up a helper function to print out our generated formulas.\n",
    "#### Helper print function"
   ]
  },
  {
   "cell_type": "code",
   "execution_count": 3,
   "metadata": {
    "collapsed": true
   },
   "outputs": [],
   "source": [
    "def printFormula(f, n, m):\n",
    "\n",
    "\tfor idx,cl in enumerate(f):\n",
    "\t\tprint \"( \",\n",
    "\t\tif(cl[0] < n):\n",
    "\t\t\tprint \"x{} | \".format(cl[0]) , \n",
    "\t\telse:\n",
    "\t\t\tprint \"!x{} | \".format(cl[0]-n) ,\n",
    "\t\tif(cl[1] < n):\n",
    "\t\t\tprint \"x{} | \".format(cl[1]), \n",
    "\t\telse:\n",
    "\t\t\tprint \"!x{} | \".format(cl[1]-n),\n",
    "\t\tif(cl[2] < n):\n",
    "\t\t\tprint \"x{} )\".format(cl[2]),\n",
    "\t\telse:\n",
    "\t\t\tprint \"!x{} )\".format(cl[2]-n),\n",
    "\t\tif(idx != m - 1):\n",
    "\t\t\tprint \" & \","
   ]
  },
  {
   "cell_type": "markdown",
   "metadata": {},
   "source": [
    "Aha! Best tutorial ever, no? Now three cool ways to accomplish the task that I'm not gonna explain!\n",
    "### Cool way number one "
   ]
  },
  {
   "cell_type": "code",
   "execution_count": 4,
   "metadata": {
    "collapsed": true
   },
   "outputs": [],
   "source": [
    "def monteCarloSolve(f,n,m):\n",
    "\n",
    "\trandomAssignment = []\n",
    "\n",
    "\tfor i in range(n):\n",
    "\t\trandomAssignment.append(random.choice([True, False]))\n",
    "\tfor i in range(n):\n",
    "\t\trandomAssignment.append(not randomAssignment[i])\n",
    "\n",
    "\tsatisfiedClauses = []\n",
    "\n",
    "\tfor i in range(m):\n",
    "\t\tif(randomAssignment[f[i][0]] or randomAssignment[f[i][1]] or randomAssignment[f[i][2]] ):\n",
    "\t\t\tsatisfiedClauses.append(i)\n",
    "\n",
    "\t# print \"Number of satisfied clauses: \", len(satisfiedClauses)\n",
    "\t# print \"Fraction of satisfied clauses: \", len(satisfiedClauses)/float(m)\n",
    "\t# print satisfiedClauses\n",
    "\n",
    "\treturn len(satisfiedClauses) >= (7/8.)*m"
   ]
  },
  {
   "cell_type": "markdown",
   "metadata": {},
   "source": [
    "### Cool way number two!"
   ]
  },
  {
   "cell_type": "code",
   "execution_count": 5,
   "metadata": {
    "collapsed": true
   },
   "outputs": [],
   "source": [
    "def lasVegasSolve(f,n,m):\n",
    "\n",
    "\tdone = False\n",
    "\trunCount = 0\n",
    "\n",
    "\twhile(not done):\n",
    "\t\tdone = monteCarloSolve(f,n,m)\n",
    "\t\trunCount += 1\n",
    "\n",
    "\tprint \"Number of calls to MC from Las Vegas: \", runCount"
   ]
  },
  {
   "cell_type": "markdown",
   "metadata": {},
   "source": [
    "### Cool way number tres!!"
   ]
  },
  {
   "cell_type": "code",
   "execution_count": 6,
   "metadata": {
    "collapsed": true
   },
   "outputs": [],
   "source": [
    "def derandomizedSolve(f,n,m):\n",
    "\n",
    "\t#Assigning\n",
    "\tassignment = []\n",
    "\tclauseStatus = []\n",
    "\n",
    "\tfor i in range(m):\n",
    "\t\tclauseStatus.append(-1)\n",
    "\n",
    "\tfor i in range(n):\n",
    "\n",
    "\t\ttrueCount = 0\n",
    "\t\tfalseCount = 0\n",
    "\n",
    "\t\tfor idx,clause in enumerate(f):\n",
    "\n",
    "\t\t\tif(clauseStatus[idx] == -1):\n",
    "\t\t\t\tif(i in clause):\n",
    "\t\t\t\t\ttrueCount += 1\n",
    "\t\t\t\tif(i+n in clause):\n",
    "\t\t\t\t\tfalseCount += 1\n",
    "\n",
    "\t\tassignment.append(trueCount > falseCount)\n",
    "\t\tfor idx,clause in enumerate(f):\n",
    "\t\t\tif(i + (trueCount <= falseCount)*n in clause):\n",
    "\t\t\t\tclauseStatus[idx] = 1\n",
    "\n",
    "\tfor i in range(n):\n",
    "\t\tassignment.append(not assignment[i])\n",
    "\n",
    "\t#Checking\n",
    "\tsatisfiedClauses = []\n",
    "\n",
    "\tfor i in range(m):\n",
    "\t\tif(assignment[f[i][0]] or assignment[f[i][1]] or assignment[f[i][2]] ):\n",
    "\t\t\tsatisfiedClauses.append(i)\n",
    "\n",
    "\tprint \"Number of satisfied clauses: \", len(satisfiedClauses)\n",
    "\tprint \"Fraction of satisfied clauses: \", len(satisfiedClauses)/float(m)\t"
   ]
  },
  {
   "cell_type": "markdown",
   "metadata": {},
   "source": [
    "And we're done."
   ]
  },
  {
   "cell_type": "markdown",
   "metadata": {},
   "source": [
    "## Now to prove that this stuff actually runs"
   ]
  },
  {
   "cell_type": "code",
   "execution_count": 7,
   "metadata": {
    "collapsed": false
   },
   "outputs": [
    {
     "name": "stdout",
     "output_type": "stream",
     "text": [
      "Number of satisfied clauses:  994\n",
      "Fraction of satisfied clauses:  0.994\n"
     ]
    }
   ],
   "source": [
    "#Number of clauses\n",
    "m = 1000\n",
    "#Number of variables\n",
    "n = 1000\n",
    "\n",
    "formula = getRandomFormula(n,m)\n",
    "#printFormula(formula, n, m)\n",
    "#lasVegasSolve(formula,n,m)\n",
    "derandomizedSolve(formula,n,m)"
   ]
  },
  {
   "cell_type": "markdown",
   "metadata": {},
   "source": [
    "Again!"
   ]
  },
  {
   "cell_type": "code",
   "execution_count": 10,
   "metadata": {
    "collapsed": false
   },
   "outputs": [
    {
     "name": "stdout",
     "output_type": "stream",
     "text": [
      "Number of satisfied clauses:  997\n",
      "Fraction of satisfied clauses:  0.997\n"
     ]
    }
   ],
   "source": [
    "formula = getRandomFormula(n,m)\n",
    "derandomizedSolve(formula,n,m)"
   ]
  },
  {
   "cell_type": "markdown",
   "metadata": {},
   "source": [
    "Wohoooo. The end."
   ]
  }
 ],
 "metadata": {
  "kernelspec": {
   "display_name": "Python 2",
   "language": "python",
   "name": "python2"
  },
  "language_info": {
   "codemirror_mode": {
    "name": "ipython",
    "version": 2
   },
   "file_extension": ".py",
   "mimetype": "text/x-python",
   "name": "python",
   "nbconvert_exporter": "python",
   "pygments_lexer": "ipython2",
   "version": "2.7.6"
  }
 },
 "nbformat": 4,
 "nbformat_minor": 2
}
